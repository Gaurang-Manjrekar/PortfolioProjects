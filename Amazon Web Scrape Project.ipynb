{
 "cells": [
  {
   "cell_type": "code",
   "execution_count": 22,
   "id": "b3292d6f",
   "metadata": {},
   "outputs": [],
   "source": [
    "# Import Libraries\n",
    "\n",
    "from bs4 import BeautifulSoup\n",
    "import requests\n",
    "import smtplib\n",
    "import time\n",
    "import datetime\n",
    "\n",
    "import csv"
   ]
  },
  {
   "cell_type": "code",
   "execution_count": 18,
   "id": "106aa99a",
   "metadata": {},
   "outputs": [
    {
     "name": "stdout",
     "output_type": "stream",
     "text": [
      "\n",
      "                   Jasan Messi Love White Graphic Printed T-Shirt for Men | White Tshirt | Half Sleeve Tshirts | Round Crew Neck T Shirt | 100% Cotton T-Shirts | Short Sleeve Tees\n",
      "                  \n",
      "\n",
      "                  ₹599\n",
      "                 \n"
     ]
    }
   ],
   "source": [
    "# Connect to website\n",
    "\n",
    "URL = \"https://www.amazon.in/Graphic-Printed-T-Shirt-Tshirts-T-Shirts/dp/B08W8PFJJM/ref=sr_1_2_sspa?crid=2R3EF3AQ7LUY8&keywords=data%2Banalyst%2Btshirt&qid=1681629744&sprefix=%2Caps%2C334&sr=8-2-spons&sp_csd=d2lkZ2V0TmFtZT1zcF9tdGY&th=1&psc=1\"\n",
    "\n",
    "headers = {\"User-Agent\": \"Mozilla/5.0 (Windows NT 10.0; Win64; x64) AppleWebKit/537.36 (KHTML, like Gecko) Chrome/112.0.0.0 Safari/537.36\"}\n",
    "\n",
    "page = requests.get(URL, headers = headers)\n",
    "\n",
    "soup1 = BeautifulSoup(page.content, \"html.parser\")\n",
    "\n",
    "soup2 = BeautifulSoup(soup1.prettify(), \"html.parser\")\n",
    "\n",
    "title = soup2.find(id ='productTitle').get_text()\n",
    "\n",
    "price = soup2.find('span', {'class':\"a-offscreen\"}).get_text()\n",
    "\n",
    "print(title)\n",
    "print(price)"
   ]
  },
  {
   "cell_type": "code",
   "execution_count": 21,
   "id": "ca744dbf",
   "metadata": {
    "scrolled": true
   },
   "outputs": [
    {
     "name": "stdout",
     "output_type": "stream",
     "text": [
      "Jasan Messi Love White Graphic Printed T-Shirt for Men | White Tshirt | Half Sleeve Tshirts | Round Crew Neck T Shirt | 100% Cotton T-Shirts | Short Sleeve Tees\n",
      "599\n"
     ]
    }
   ],
   "source": [
    "price = price.strip()[1:]\n",
    "title = title.strip()\n",
    "\n",
    "print(title)\n",
    "print(price)"
   ]
  },
  {
   "cell_type": "code",
   "execution_count": 24,
   "id": "73bed005",
   "metadata": {
    "scrolled": true
   },
   "outputs": [
    {
     "name": "stdout",
     "output_type": "stream",
     "text": [
      "The type of price is  <class 'str'>\n"
     ]
    }
   ],
   "source": [
    "print(\"The type of price is \", type(price))"
   ]
  },
  {
   "cell_type": "code",
   "execution_count": 26,
   "id": "8337eeab",
   "metadata": {},
   "outputs": [
    {
     "name": "stdout",
     "output_type": "stream",
     "text": [
      "2023-04-16\n"
     ]
    }
   ],
   "source": [
    "import datetime\n",
    "\n",
    "today = datetime.date.today()\n",
    "\n",
    "print(today)"
   ]
  },
  {
   "cell_type": "code",
   "execution_count": 28,
   "id": "7b356803",
   "metadata": {},
   "outputs": [],
   "source": [
    "# Creating a csv file\n",
    "\n",
    "header = ['Title', 'Price', 'Date']\n",
    "data = [title, price, today]\n",
    "\n",
    "with open('AmazonWebScrapper.csv', 'w', newline ='', encoding = 'UTF8') as f:\n",
    "    writer = csv.writer(f)\n",
    "    writer.writerow(header)\n",
    "    writer.writerow(data)\n",
    "    "
   ]
  },
  {
   "cell_type": "code",
   "execution_count": 39,
   "id": "a71bc938",
   "metadata": {},
   "outputs": [
    {
     "data": {
      "text/html": [
       "<div>\n",
       "<style scoped>\n",
       "    .dataframe tbody tr th:only-of-type {\n",
       "        vertical-align: middle;\n",
       "    }\n",
       "\n",
       "    .dataframe tbody tr th {\n",
       "        vertical-align: top;\n",
       "    }\n",
       "\n",
       "    .dataframe thead th {\n",
       "        text-align: right;\n",
       "    }\n",
       "</style>\n",
       "<table border=\"1\" class=\"dataframe\">\n",
       "  <thead>\n",
       "    <tr style=\"text-align: right;\">\n",
       "      <th></th>\n",
       "      <th>Title</th>\n",
       "      <th>Price</th>\n",
       "      <th>Date</th>\n",
       "    </tr>\n",
       "  </thead>\n",
       "  <tbody>\n",
       "    <tr>\n",
       "      <th>0</th>\n",
       "      <td>Jasan Messi Love White Graphic Printed T-Shirt...</td>\n",
       "      <td>599</td>\n",
       "      <td>16-04-2023</td>\n",
       "    </tr>\n",
       "    <tr>\n",
       "      <th>1</th>\n",
       "      <td>Jasan Messi Love White Graphic Printed T-Shirt...</td>\n",
       "      <td>599</td>\n",
       "      <td>2023-04-16</td>\n",
       "    </tr>\n",
       "  </tbody>\n",
       "</table>\n",
       "</div>"
      ],
      "text/plain": [
       "                                               Title  Price        Date\n",
       "0  Jasan Messi Love White Graphic Printed T-Shirt...    599  16-04-2023\n",
       "1  Jasan Messi Love White Graphic Printed T-Shirt...    599  2023-04-16"
      ]
     },
     "execution_count": 39,
     "metadata": {},
     "output_type": "execute_result"
    }
   ],
   "source": [
    "import pandas as pd\n",
    "\n",
    "df = pd.read_csv(r\"C:\\Users\\gaurang manjrekar\\AmazonWebScrapper.csv\")\n",
    "df"
   ]
  },
  {
   "cell_type": "code",
   "execution_count": 38,
   "id": "171749fe",
   "metadata": {},
   "outputs": [],
   "source": [
    "# Now we are appending data to the csv\n",
    "\n",
    "with open('AmazonWebScrapper.csv', 'a+', newline='', encoding ='UTF8') as f:\n",
    "    writer = csv.writer(f)\n",
    "    writer.writerow(data)"
   ]
  },
  {
   "cell_type": "code",
   "execution_count": 42,
   "id": "5bfe0f94",
   "metadata": {},
   "outputs": [],
   "source": [
    "def check_price():\n",
    "    URL = \"https://www.amazon.in/Graphic-Printed-T-Shirt-Tshirts-T-Shirts/dp/B08W8PFJJM/ref=sr_1_2_sspa?crid=2R3EF3AQ7LUY8&keywords=data%2Banalyst%2Btshirt&qid=1681629744&sprefix=%2Caps%2C334&sr=8-2-spons&sp_csd=d2lkZ2V0TmFtZT1zcF9tdGY&th=1&psc=1\"\n",
    "\n",
    "    headers = {\"User-Agent\": \"Mozilla/5.0 (Windows NT 10.0; Win64; x64) AppleWebKit/537.36 (KHTML, like Gecko) Chrome/112.0.0.0 Safari/537.36\"}\n",
    "\n",
    "    page = requests.get(URL, headers = headers)\n",
    "\n",
    "    soup1 = BeautifulSoup(page.content, \"html.parser\")\n",
    "\n",
    "    soup2 = BeautifulSoup(soup1.prettify(), \"html.parser\")\n",
    "\n",
    "    title = soup2.find(id ='productTitle').get_text()\n",
    "\n",
    "    price = soup2.find('span', {'class':\"a-offscreen\"}).get_text()\n",
    "\n",
    "    price = price.strip()[1:]           \n",
    "    title = title.strip()\n",
    "\n",
    "    import datetime\n",
    "    today = datetime.date.today()\n",
    "\n",
    "    header = ['Title', 'Price', 'Date']\n",
    "    data = [title, price, today]\n",
    "\n",
    "    with open('AmazonWebScrapper.csv', 'a+', newline='', encoding ='UTF8') as f:\n",
    "        writer = csv.writer(f)\n",
    "        writer.writerow(data) "
   ]
  },
  {
   "cell_type": "code",
   "execution_count": null,
   "id": "dc4a71e6",
   "metadata": {},
   "outputs": [],
   "source": [
    "while(True):\n",
    "    check_price()\n",
    "    time.sleep(86400)"
   ]
  },
  {
   "cell_type": "code",
   "execution_count": 1,
   "id": "2887056c",
   "metadata": {},
   "outputs": [
    {
     "data": {
      "text/html": [
       "<div>\n",
       "<style scoped>\n",
       "    .dataframe tbody tr th:only-of-type {\n",
       "        vertical-align: middle;\n",
       "    }\n",
       "\n",
       "    .dataframe tbody tr th {\n",
       "        vertical-align: top;\n",
       "    }\n",
       "\n",
       "    .dataframe thead th {\n",
       "        text-align: right;\n",
       "    }\n",
       "</style>\n",
       "<table border=\"1\" class=\"dataframe\">\n",
       "  <thead>\n",
       "    <tr style=\"text-align: right;\">\n",
       "      <th></th>\n",
       "      <th>Title</th>\n",
       "      <th>Price</th>\n",
       "      <th>Date</th>\n",
       "    </tr>\n",
       "  </thead>\n",
       "  <tbody>\n",
       "    <tr>\n",
       "      <th>0</th>\n",
       "      <td>Jasan Messi Love White Graphic Printed T-Shirt...</td>\n",
       "      <td>599.0</td>\n",
       "      <td>16-04-2023</td>\n",
       "    </tr>\n",
       "    <tr>\n",
       "      <th>1</th>\n",
       "      <td>Jasan Messi Love White Graphic Printed T-Shirt...</td>\n",
       "      <td>599.0</td>\n",
       "      <td>2023-04-16</td>\n",
       "    </tr>\n",
       "    <tr>\n",
       "      <th>2</th>\n",
       "      <td>Jasan Messi Love White Graphic Printed T-Shirt...</td>\n",
       "      <td>599.0</td>\n",
       "      <td>2023-04-16</td>\n",
       "    </tr>\n",
       "    <tr>\n",
       "      <th>3</th>\n",
       "      <td>Jasan Messi Love White Graphic Printed T-Shirt...</td>\n",
       "      <td>599.0</td>\n",
       "      <td>2023-04-16</td>\n",
       "    </tr>\n",
       "    <tr>\n",
       "      <th>4</th>\n",
       "      <td>Jasan Messi Love White Graphic Printed T-Shirt...</td>\n",
       "      <td>599.0</td>\n",
       "      <td>2023-04-16</td>\n",
       "    </tr>\n",
       "  </tbody>\n",
       "</table>\n",
       "</div>"
      ],
      "text/plain": [
       "                                               Title  Price        Date\n",
       "0  Jasan Messi Love White Graphic Printed T-Shirt...  599.0  16-04-2023\n",
       "1  Jasan Messi Love White Graphic Printed T-Shirt...  599.0  2023-04-16\n",
       "2  Jasan Messi Love White Graphic Printed T-Shirt...  599.0  2023-04-16\n",
       "3  Jasan Messi Love White Graphic Printed T-Shirt...  599.0  2023-04-16\n",
       "4  Jasan Messi Love White Graphic Printed T-Shirt...  599.0  2023-04-16"
      ]
     },
     "execution_count": 1,
     "metadata": {},
     "output_type": "execute_result"
    }
   ],
   "source": [
    "import pandas as pd\n",
    "\n",
    "df = pd.read_csv(r\"C:\\Users\\gaurang manjrekar\\AmazonWebScrapper.csv\")\n",
    "df"
   ]
  }
 ],
 "metadata": {
  "kernelspec": {
   "display_name": "Python 3 (ipykernel)",
   "language": "python",
   "name": "python3"
  },
  "language_info": {
   "codemirror_mode": {
    "name": "ipython",
    "version": 3
   },
   "file_extension": ".py",
   "mimetype": "text/x-python",
   "name": "python",
   "nbconvert_exporter": "python",
   "pygments_lexer": "ipython3",
   "version": "3.9.12"
  }
 },
 "nbformat": 4,
 "nbformat_minor": 5
}
